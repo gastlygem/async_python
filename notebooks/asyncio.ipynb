{
 "cells": [
  {
   "cell_type": "markdown",
   "metadata": {},
   "source": [
    "Event loop: a first class object responsible for efficiently handling I/O events, system events, and application context changes.\n",
    "\n",
    "Future: a data structure representing the result of work that has not been completed yet.\n",
    "\n",
    "The event loop can watch for a Future object to be set to done, allowing one part of an application to wait for another part to finish some work. Besides futures, asyncio includes other concurrency primitives such as locks and semaphores.\n",
    "\n",
    "A `Task` is a subclass of `Future` that knows how to wrap and manage the execution for a coroutine. Tasks can be scheduled with the event loop to run when the resources they need are available, and to produce a result that can be consumed by other coroutines."
   ]
  },
  {
   "cell_type": "code",
   "execution_count": 1,
   "metadata": {
    "collapsed": false
   },
   "outputs": [
    {
     "name": "stdout",
     "output_type": "stream",
     "text": [
      "starting coroutine\n",
      "entering event loop\n",
      "in coroutine\n",
      "Got: result\n",
      "closing eventloop\n"
     ]
    }
   ],
   "source": [
    "import asyncio\n",
    "\n",
    "async def coroutine():\n",
    "    print('in coroutine')\n",
    "    return 'result'\n",
    "    \n",
    "event_loop = asyncio.get_event_loop()\n",
    "try:\n",
    "    print('starting coroutine')\n",
    "    coro = coroutine()\n",
    "    print('entering event loop')\n",
    "    return_value = event_loop.run_until_complete(coro)\n",
    "    print('Got:', return_value)\n",
    "finally:\n",
    "    print('closing eventloop')\n",
    "    #event_loop.close()"
   ]
  },
  {
   "cell_type": "code",
   "execution_count": 12,
   "metadata": {
    "collapsed": false
   },
   "outputs": [
    {
     "name": "stdout",
     "output_type": "stream",
     "text": [
      "in outer\n",
      "waiting for result1\n",
      "in phase1\n",
      "waiting for result2\n",
      "in phase2\n",
      "return value: ('result1', 'result2 derived from result1')\n"
     ]
    }
   ],
   "source": [
    "async def outer():\n",
    "    print('in outer')\n",
    "    print('waiting for result1')\n",
    "    result1 = await phase1()\n",
    "    print('waiting for result2')\n",
    "    result2 = await phase2(result1)\n",
    "    return result1, result2\n",
    "    \n",
    "async def phase1():\n",
    "    print('in phase1')\n",
    "    return 'result1'\n",
    "\n",
    "async def phase2(arg):\n",
    "    print('in phase2')\n",
    "    return 'result2 derived from {}'.format(arg)\n",
    "\n",
    "event_loop = asyncio.get_event_loop()\n",
    "\n",
    "try:\n",
    "    return_value = event_loop.run_until_complete(outer())\n",
    "    print('return value: {!r}'.format(return_value))\n",
    "finally:\n",
    "    pass"
   ]
  },
  {
   "cell_type": "markdown",
   "metadata": {},
   "source": [
    "`call_soon()` can be used to schedule the call for the next iteration of the loop. Any extra positional arguments after the function are passed to the callback when it is invoked. "
   ]
  },
  {
   "cell_type": "code",
   "execution_count": 11,
   "metadata": {
    "collapsed": false
   },
   "outputs": [
    {
     "name": "stdout",
     "output_type": "stream",
     "text": [
      "entering event loop\n",
      "registering callback\n",
      "callback ivoked with 1 and default\n",
      "callback ivoked with 2 and not default\n"
     ]
    }
   ],
   "source": [
    "import functools\n",
    "\n",
    "def callback(arg, *, kwarg='default'):\n",
    "    print('callback ivoked with {} and {}'.format(arg, kwarg))\n",
    "    \n",
    "async def main(loop):\n",
    "    print('registering callback')\n",
    "    loop.call_soon(callback, 1)\n",
    "    wrapped = functools.partial(callback, kwarg='not default')\n",
    "    loop.call_soon(wrapped, 2)\n",
    "    \n",
    "    await asyncio.sleep(0.1)\n",
    "    \n",
    "event_loop = asyncio.get_event_loop()\n",
    "\n",
    "try:\n",
    "    print('entering event loop')\n",
    "    event_loop.run_until_complete(main(event_loop))\n",
    "finally:\n",
    "    pass"
   ]
  },
  {
   "cell_type": "code",
   "execution_count": 18,
   "metadata": {
    "collapsed": false
   },
   "outputs": [
    {
     "name": "stdout",
     "output_type": "stream",
     "text": [
      "entering event loop\n",
      "registering callbacks\n",
      "callback 3 invoked\n",
      "callback 1 invoked\n",
      "callback 2 invoked\n"
     ]
    }
   ],
   "source": [
    "def callback(n):\n",
    "    print('callback {} invoked'.format(n))\n",
    "    \n",
    "async def main(loop):\n",
    "    print('registering callbacks')\n",
    "    loop.call_later(2.2, callback, 1)\n",
    "    loop.call_later(2.2, callback, 2)\n",
    "    loop.call_soon(callback, 3)\n",
    "    \n",
    "    await asyncio.sleep(5.4)\n",
    "    \n",
    "event_loop = asyncio.get_event_loop()\n",
    "\n",
    "try:\n",
    "    print('entering event loop')\n",
    "    event_loop.run_until_complete(main(event_loop))\n",
    "finally:\n",
    "    pass"
   ]
  },
  {
   "cell_type": "code",
   "execution_count": 20,
   "metadata": {
    "collapsed": false
   },
   "outputs": [
    {
     "name": "stdout",
     "output_type": "stream",
     "text": [
      "entering event loop\n",
      "clock time: 1484555223.475652\n",
      "loop time: 368431.281\n",
      "registering callbacks\n",
      "callback 3 invoked at 368431.281\n",
      "callback 2 invoked at 368431.375\n",
      "callback 1 invoked at 368431.484\n"
     ]
    }
   ],
   "source": [
    "import time\n",
    "\n",
    "def callback(n, loop):\n",
    "    print('callback {} invoked at {}'.format(n, loop.time()))\n",
    "    \n",
    "async def main(loop):\n",
    "    now = loop.time()\n",
    "    print('clock time: {}'.format(time.time()))\n",
    "    print('loop time: {}'.format(now))\n",
    "    \n",
    "    print('registering callbacks')\n",
    "    loop.call_at(now + 0.2, callback, 1, loop)\n",
    "    loop.call_at(now + 0.1, callback, 2, loop)\n",
    "    loop.call_soon(callback, 3, loop)\n",
    "    await asyncio.sleep(1)\n",
    "    \n",
    "event_loop = asyncio.get_event_loop()\n",
    "\n",
    "try:\n",
    "    print('entering event loop')\n",
    "    event_loop.run_until_complete(main(event_loop))\n",
    "finally:\n",
    "    pass"
   ]
  },
  {
   "cell_type": "code",
   "execution_count": null,
   "metadata": {
    "collapsed": true
   },
   "outputs": [],
   "source": []
  }
 ],
 "metadata": {
  "kernelspec": {
   "display_name": "Python 3",
   "language": "python",
   "name": "python3"
  },
  "language_info": {
   "codemirror_mode": {
    "name": "ipython",
    "version": 3
   },
   "file_extension": ".py",
   "mimetype": "text/x-python",
   "name": "python",
   "nbconvert_exporter": "python",
   "pygments_lexer": "ipython3",
   "version": "3.6.0"
  }
 },
 "nbformat": 4,
 "nbformat_minor": 2
}
